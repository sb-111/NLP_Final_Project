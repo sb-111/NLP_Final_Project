{
 "cells": [
  {
   "cell_type": "code",
   "execution_count": 2,
   "outputs": [
    {
     "name": "stderr",
     "output_type": "stream",
     "text": [
      "\n",
      "KeyboardInterrupt\n",
      "\n"
     ]
    }
   ],
   "source": [
    "from konlpy.tag import Okt\n",
    "from gensim.models.fasttext import FastText, load_facebook_vectors, load_facebook_model\n",
    "import os\n",
    "import pandas as pd\n",
    "import re\n",
    "from gensim.test.utils import datapath\n",
    "\n",
    "def preprocess_korean_text(text, stop_words=[]):\n",
    "    okt = Okt()\n",
    "    \n",
    "    # 형태소 분석을 통한 토큰화\n",
    "    words = okt.morphs(text, norm=True) # 정규화 처리\n",
    "    \n",
    "    # 불용어 제거\n",
    "    words = [word for word in words if word not in stop_words]\n",
    "    \n",
    "    return words\n",
    "\n",
    "def process_csv_file(csv_path, stop_words=[]):\n",
    "    new_data = []\n",
    "    \n",
    "    df = pd.read_csv(csv_path, encoding='utf-8')\n",
    "    if 'reviews' in df.columns:\n",
    "        for text in df['reviews']:\n",
    "            # 추가적인 전처리 작업 (예: 특수 문자 제거, 숫자 제거 등)\n",
    "            text = re.sub(r'[^가-힣ㄱ-ㅎㅏ-ㅣa-zA-Z\\s]', '', text)\n",
    "            \n",
    "            # 전처리된 문장을 추가 데이터에 포함\n",
    "            tokens = preprocess_korean_text(text, stop_words)\n",
    "            new_data.append(tokens)\n",
    "    \n",
    "    return new_data\n",
    "\n",
    "\n",
    "# 기존 pre-trained 모델 경로\n",
    "pretrained_model_path = 'wiki.ko.bin'\n",
    "\n",
    "# 새로운 데이터 파일 경로\n",
    "csv_file_path = '../ReviewData/reviews_only.csv'\n",
    "\n",
    "# 불용어 리스트 (필요에 따라 추가)\n",
    "stop_words = ['의','가', '에','들','는','잘','걍','과','도','를','으로','한','하다','!','?','<','>','(',')','[',']','|','#','.', '이','은','는','을','에','에서','로']\n",
    "\n",
    "# 모델 로드\n",
    "# model = load_facebook_vectors(pretrained_model_path)\n",
    "model = load_facebook_model(pretrained_model_path)\n",
    "\n",
    "# CSV 파일 처리 및 전처리\n",
    "new_data = process_csv_file(csv_file_path, stop_words)\n",
    "\n",
    "# 모델 업데이트\n",
    "model.build_vocab(corpus_iterable=new_data, update=True)\n",
    "model.train(corpus_iterable=new_data, total_examples=len(new_data), epochs=model.epochs)\n",
    "\n",
    "# 업데이트된 모델 저장\n",
    "updated_model_path = 'updated_model.bin'\n",
    "model.save(updated_model_path)\n",
    "\n",
    "# 저장된 모델 경로 출력\n",
    "print(f\"모델이 성공적으로 업데이트되었습니다. 업데이트된 모델 경로: {os.path.abspath(updated_model_path)}\")"
   ],
   "metadata": {
    "collapsed": false,
    "ExecuteTime": {
     "end_time": "2023-12-08T06:54:45.074281Z",
     "start_time": "2023-12-08T06:54:38.437516Z"
    }
   },
   "id": "6ffa3865585819a3"
  },
  {
   "cell_type": "markdown",
   "source": [],
   "metadata": {
    "collapsed": false
   },
   "id": "9d6714cf45d5e661"
  },
  {
   "cell_type": "code",
   "execution_count": 5,
   "outputs": [
    {
     "name": "stdout",
     "output_type": "stream",
     "text": [
      "입력한 단어 '치킨'와(과) 유사한 단어들:\n",
      "양념치킨: 0.8387115001678467\n",
      "치킨과: 0.8261151909828186\n",
      "치킨윙: 0.8219879865646362\n",
      "치킨에: 0.819800078868866\n",
      "치킨이: 0.809363842010498\n",
      "치킨은: 0.7859618663787842\n",
      "치킨을: 0.785783588886261\n",
      "치킨의: 0.777712881565094\n",
      "먼치킨: 0.7542405724525452\n",
      "치킨집: 0.7345045804977417\n"
     ]
    }
   ],
   "source": [
    "from gensim.models.fasttext import FastText\n",
    "\n",
    "# 저장한 모델 불러오기\n",
    "model = FastText.load('./updated_model.bin')\n",
    "\n",
    "def find_similar_words(word, topn=10):\n",
    "    try:\n",
    "        # 입력한 단어와 유사한 단어들을 찾기\n",
    "        similar_words = model.wv.most_similar(word, topn=topn)\n",
    "\n",
    "        # 결과 출력\n",
    "        print(f\"입력한 단어 '{word}'와(과) 유사한 단어들:\")\n",
    "        for similar_word, similarity in similar_words:\n",
    "            print(f\"{similar_word}: {similarity}\")\n",
    "\n",
    "    except KeyError:\n",
    "        print(f\"입력한 단어 '{word}'는 모델의 어휘에 없습니다.\")\n",
    "\n",
    "# 사용자로부터 단어 입력 받기\n",
    "user_input = input(\"단어를 입력하세요: \")\n",
    "\n",
    "# 유사한 단어 찾기 및 출력\n",
    "find_similar_words(user_input)"
   ],
   "metadata": {
    "collapsed": false,
    "ExecuteTime": {
     "end_time": "2023-12-08T06:56:58.178071Z",
     "start_time": "2023-12-08T06:55:44.002246Z"
    }
   },
   "id": "7d499cf0883628ac"
  },
  {
   "cell_type": "code",
   "execution_count": null,
   "outputs": [],
   "source": [],
   "metadata": {
    "collapsed": false
   },
   "id": "8abadf88855f5ec7"
  }
 ],
 "metadata": {
  "kernelspec": {
   "display_name": "Python 3",
   "language": "python",
   "name": "python3"
  },
  "language_info": {
   "codemirror_mode": {
    "name": "ipython",
    "version": 2
   },
   "file_extension": ".py",
   "mimetype": "text/x-python",
   "name": "python",
   "nbconvert_exporter": "python",
   "pygments_lexer": "ipython2",
   "version": "2.7.6"
  }
 },
 "nbformat": 4,
 "nbformat_minor": 5
}
